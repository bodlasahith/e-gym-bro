{
 "cells": [
  {
   "cell_type": "code",
   "execution_count": 1,
   "id": "37821676-1b20-4f28-a404-2ef0a325774e",
   "metadata": {},
   "outputs": [],
   "source": [
    "import mediapipe as mp\n",
    "from mediapipe.tasks import python\n",
    "from mediapipe.tasks.python import vision\n",
    "from mediapipe import solutions\n",
    "from mediapipe.framework.formats import landmark_pb2\n",
    "import threading\n",
    "import cv2\n",
    "import numpy as np"
   ]
  },
  {
   "cell_type": "code",
   "execution_count": 2,
   "id": "6aa008ac-81be-4346-b9bd-cda30bafc225",
   "metadata": {},
   "outputs": [],
   "source": [
    "import math\n",
    "import matplotlib.pyplot as plt\n",
    "from matplotlib.animation import FuncAnimation\n",
    "from IPython.display import clear_output, display"
   ]
  },
  {
   "cell_type": "code",
   "execution_count": 3,
   "id": "6f648853-d61b-4574-ba5e-2dca04a0ebbc",
   "metadata": {},
   "outputs": [],
   "source": [
    "def compute_angle(A, B, C):\n",
    "    # Vector BA\n",
    "    BA = [A.x - B.x, A.y - B.y, A.z - B.z]\n",
    "    # Vector BC\n",
    "    BC = [C.x - B.x, C.y - B.y, C.z - B.z]\n",
    "\n",
    "    # Dot product\n",
    "    dot_product = sum(a*b for a, b in zip(BA, BC))\n",
    "\n",
    "    # Magnitude of vectors\n",
    "    mag_BA = math.sqrt(sum(a*a for a in BA))\n",
    "    mag_BC = math.sqrt(sum(b*b for b in BC))\n",
    "\n",
    "    # Cosine of the angle\n",
    "    cos_theta = dot_product / (mag_BA * mag_BC)\n",
    "\n",
    "    # Angle in radians\n",
    "    theta = math.acos(cos_theta)\n",
    "\n",
    "    # Convert to degrees\n",
    "    theta_deg = math.degrees(theta)\n",
    "\n",
    "    return theta_deg"
   ]
  },
  {
   "cell_type": "code",
   "execution_count": 4,
   "id": "226072c9-52ae-4732-b75b-af7b178cfa70",
   "metadata": {},
   "outputs": [],
   "source": [
    "model_path = './PoseLandmarkerLite.task'"
   ]
  },
  {
   "cell_type": "code",
   "execution_count": 5,
   "id": "d16b9576-dc80-4ada-b5bd-7866c6e81bf2",
   "metadata": {},
   "outputs": [
    {
     "name": "stderr",
     "output_type": "stream",
     "text": [
      "INFO: Created TensorFlow Lite XNNPACK delegate for CPU.\n"
     ]
    },
    {
     "data": {
      "image/png": "[encoded data removed]",
      "text/plain": [
       "<Figure size 640x480 with 1 Axes>"
      ]
     },
     "metadata": {},
     "output_type": "display_data"
    }
   ],
   "source": [
    "BaseOptions = mp.tasks.BaseOptions\n",
    "PoseLandmarker = mp.tasks.vision.PoseLandmarker\n",
    "PoseLandmarkerOptions = mp.tasks.vision.PoseLandmarkerOptions\n",
    "VisionRunningMode = mp.tasks.vision.RunningMode\n",
    "\n",
    "options = PoseLandmarkerOptions(\n",
    "    base_options=BaseOptions(model_asset_path=model_path),\n",
    "    running_mode=VisionRunningMode.VIDEO)\n",
    "\n",
    "landmarker = PoseLandmarker.create_from_options(options)\n",
    "\n",
    "fig, ax = plt.subplots()\n",
    "ax.set_title(\"Angles Over Time\")\n",
    "ax.set_xlabel(\"Time (ms)\")\n",
    "ax.set_ylabel(\"Angle (degrees)\")\n",
    "\n",
    "angles = []\n",
    "timestamps = []\n",
    "#The given data is from Sahith Side View Good --> the left arm \n",
    "given_angles = [125.01489466848547, 124.33019119344469, 124.21854028613473, 125.06285453167966, 127.54378882538676, 118.06447296552408, 123.04966988047516, 114.05738410447076, 107.17981631128085, 116.71535085327776, 110.87908659763106, 117.31477891815155, 116.9372585802644, 97.4697113829731, 77.11208046833292, 70.90422426651344, 69.84293222138159, 72.31593631580184, 77.79114121947609, 84.47952498231322, 71.71572811739236, 113.3200905080142, 110.45347515466197, 105.4254614110633, 91.93477339173005, 97.48002372273633, 77.17538108846631, 72.76175860948359, 70.58543899339452, 71.11450692289662, 78.23135068409046, 83.59063281296531, 95.09582366618784, 106.43411004137639, 114.70880370258251, 113.00729434416625, 120.76759663345906, 113.97738077755069, 106.76677825497673, 111.4978045701481, 115.04466811580896, 122.25985411785186, 131.60645746985614, 125.69733977332525, 124.09143286177802, 129.64806199147182, 129.91914309127566, 127.12888319280695, 134.77343694726594, 133.4197492408473, 121.36832198044196, 131.18435386182063, 124.62600382104108, 127.7821464994137, 130.0205093344679, 126.37213776292747, 125.08667442456426, 131.89267701065725, 129.09376037122513, 127.03588722715985, 127.75122474151752, 120.50556631536213, 118.76678290574486, 116.02041449169428, 116.5013466238235, 108.70442271756367, 110.98675917461176, 113.62928527703562, 116.30401959276487, 116.22022853294256, 99.8441563293015, 102.7651816608572, 95.61914922896003, 84.2113421947698, 77.87218743780245, 72.78479891027082, 72.72004112968288, 76.099783819848, 76.94710845192367, 97.72133861687263, 49.99620128450313, 93.74519970981454, 93.6226962892131, 91.3789564728359, 70.27642440505424, 92.3595888517978, 47.150477976152914, 113.12809498546328, 96.68045929728639, 82.1394110654884, 75.44946614220196, 79.24559301285628, 80.64184529109883, 79.71098064242078, 85.10749920774174, 96.26806138815732, 103.16258732139936, 104.16859739198172, 125.09496315874651, 109.75333763539798, 116.08198152650742, 112.94035080229202, 116.4368172053277, 123.09673582426481, 121.02630589647816, 128.0580097633605, 134.91017932869102, 132.58943002569993, 135.66237297187567, 135.71922032368954, 133.60359527233865, 130.78753530136788, 137.49850700493064, 130.24760395621286, 131.88172442854966, 135.8094641066323, 132.39849716990315, 129.7317809321644, 134.26393776936783, 122.64578948925747, 130.13039056723133, 136.30987762827488, 132.51038936031355, 126.10009664867896, 120.80034136785167, 111.35994265645903, 117.40689836753232, 119.05220610413248, 122.79900467979486, 106.2791101890592, 102.99387812111299, 101.3610316785715, 94.58249557101253, 84.90646953318408, 77.23178971701107, 83.07673054190498, 80.80992222499428, 74.80917606755997, 99.61615709571883, 104.19982890248399, 103.66532427094502, 106.20785046007452, 106.21033985113658, 86.88630866056278, 92.78103489820755, 115.84462146350968, 94.89123561757127, 64.16057730931438, 74.13809066727019, 76.5347982049549, 74.71338583292086, 80.32707386270626, 79.10338940962183, 86.84335354418539, 95.4121769950643, 99.84747345484097, 107.48732161148199, 115.26280083074982, 118.04602643498507, 119.77853329507393]\n",
    "given_timestamps = [-1, 33, 66, 100, 133, 166, 200, 233, 266, 300, 333, 366, 400, 433, 466, 500, 533, 566, 600, 633, 666, 700, 733, 766, 800, 833, 866, 900, 933, 966, 1000, 1033, 1066, 1100, 1133, 1168, 1201, 1235, 1268, 1301, 1335, 1368, 1401, 1435, 1468, 1501, 1535, 1568, 1601, 1635, 1668, 1701, 1735, 1768, 1801, 1835, 1868, 1901, 1935, 1968, 2001, 2035, 2068, 2101, 2135, 2168, 2201, 2235, 2268, 2301, 2335, 2368, 2401, 2435, 2468, 2501, 2535, 2568, 2601, 2635, 2668, 2701, 2735, 2768, 2801, 2835, 2868, 2901, 2935, 2968, 3001, 3035, 3068, 3101, 3135, 3168, 3201, 3235, 3268, 3301, 3335, 3368, 3401, 3435, 3470, 3503, 3536, 3570, 3603, 3636, 3670, 3703, 3736, 3770, 3803, 3836, 3870, 3903, 3936, 3970, 4003, 4036, 4070, 4103, 4136, 4170, 4203, 4236, 4270, 4303, 4336, 4370, 4403, 4436, 4470, 4503, 4536, 4570, 4603, 4636, 4670, 4703, 4736, 4770, 4803, 4836, 4870, 4903, 4936, 4970, 5003, 5036, 5070, 5103, 5136, 5170, 5203, 5236, 5270, 5303]"
   ]
  },
  {
   "cell_type": "code",
   "execution_count": 6,
   "id": "2b78b97e-04db-4d5d-8cc6-c5edc37cfdc7",
   "metadata": {},
   "outputs": [],
   "source": [
    "# def update_plot(*args):\n",
    "#     clear_output(wait=True)\n",
    "#     plt.figure(figsize=(10, 6))\n",
    "#     plt.plot(timestamps, angles)\n",
    "#     # plt.plot(given_timestamps, given_angles)\n",
    "#     plt.xlabel('Timestamp (ms)')\n",
    "#     plt.ylabel('Angle (degrees)')\n",
    "#     plt.title('Angle over Time')\n",
    "#     plt.show()\n",
    "\n",
    "def update_plot(*args):\n",
    "    # Clear the previous plot\n",
    "    clear_output(wait=True)\n",
    "    \n",
    "    # Create a new figure\n",
    "    plt.figure(figsize=(10, 6))\n",
    "    \n",
    "    # Plot the 'angles' data\n",
    "    plt.plot(timestamps, angles, label='Measured Angles', color='blue')\n",
    "    \n",
    "    # Plot the 'given_angles' data, up to the length of timestamps (for comparison)\n",
    "    plt.plot(given_timestamps[:len(timestamps)], given_angles[:len(timestamps)], label='Given Angles', color='red')\n",
    "    \n",
    "    # Setting labels, title, and legend\n",
    "    plt.xlabel('Timestamp (ms)')\n",
    "    plt.ylabel('Angle (degrees)')\n",
    "    plt.title('Angle over Time')\n",
    "    plt.legend()\n",
    "    \n",
    "    # Display the plot\n",
    "    plt.show()"
   ]
  },
  {
   "cell_type": "code",
   "execution_count": 17,
   "id": "9b430e15-7d9b-4a86-93ff-09d6f94b4eb6",
   "metadata": {},
   "outputs": [
    {
     "ename": "ValueError",
     "evalue": "Input timestamp must be monotonically increasing.",
     "output_type": "error",
     "traceback": [
      "\u001b[0;31m---------------------------------------------------------------------------\u001b[0m",
      "\u001b[0;31mValueError\u001b[0m                                Traceback (most recent call last)",
      "Cell \u001b[0;32mIn[17], line 38\u001b[0m\n\u001b[1;32m     35\u001b[0m     cap\u001b[38;5;241m.\u001b[39mrelease()\n\u001b[1;32m     36\u001b[0m     cv2\u001b[38;5;241m.\u001b[39mdestroyAllWindows()\n\u001b[0;32m---> 38\u001b[0m \u001b[43mprocess_video\u001b[49m\u001b[43m(\u001b[49m\u001b[38;5;124;43m'\u001b[39;49m\u001b[38;5;124;43m./data/SideViewGood.MOV\u001b[39;49m\u001b[38;5;124;43m'\u001b[39;49m\u001b[43m)\u001b[49m\n\u001b[1;32m     39\u001b[0m \u001b[38;5;28mprint\u001b[39m(timestamps)\n\u001b[1;32m     40\u001b[0m \u001b[38;5;28mprint\u001b[39m(angles)\n",
      "Cell \u001b[0;32mIn[17], line 14\u001b[0m, in \u001b[0;36mprocess_video\u001b[0;34m(video_path)\u001b[0m\n\u001b[1;32m     11\u001b[0m timestamp_ms \u001b[38;5;241m=\u001b[39m \u001b[38;5;28mint\u001b[39m(cap\u001b[38;5;241m.\u001b[39mget(cv2\u001b[38;5;241m.\u001b[39mCAP_PROP_POS_MSEC))\n\u001b[1;32m     13\u001b[0m mp_image \u001b[38;5;241m=\u001b[39m mp\u001b[38;5;241m.\u001b[39mImage(image_format\u001b[38;5;241m=\u001b[39mmp\u001b[38;5;241m.\u001b[39mImageFormat\u001b[38;5;241m.\u001b[39mSRGB, data\u001b[38;5;241m=\u001b[39mframe)        \n\u001b[0;32m---> 14\u001b[0m pose_landmarker_result \u001b[38;5;241m=\u001b[39m \u001b[43mlandmarker\u001b[49m\u001b[38;5;241;43m.\u001b[39;49m\u001b[43mdetect_for_video\u001b[49m\u001b[43m(\u001b[49m\u001b[43mmp_image\u001b[49m\u001b[43m,\u001b[49m\u001b[43m \u001b[49m\u001b[43mtimestamp_ms\u001b[49m\u001b[43m)\u001b[49m\n\u001b[1;32m     16\u001b[0m \u001b[38;5;28;01mif\u001b[39;00m pose_landmarker_result\u001b[38;5;241m.\u001b[39mpose_landmarks \u001b[38;5;129;01mis\u001b[39;00m \u001b[38;5;28;01mNone\u001b[39;00m \u001b[38;5;129;01mor\u001b[39;00m \u001b[38;5;28mlen\u001b[39m(pose_landmarker_result\u001b[38;5;241m.\u001b[39mpose_landmarks) \u001b[38;5;241m<\u001b[39m \u001b[38;5;241m1\u001b[39m:\n\u001b[1;32m     17\u001b[0m     \u001b[38;5;28;01mcontinue\u001b[39;00m  \u001b[38;5;66;03m# skip this frame\u001b[39;00m\n",
      "File \u001b[0;32m/Library/Frameworks/Python.framework/Versions/3.11/lib/python3.11/site-packages/mediapipe/tasks/python/vision/pose_landmarker.py:395\u001b[0m, in \u001b[0;36mPoseLandmarker.detect_for_video\u001b[0;34m(self, image, timestamp_ms, image_processing_options)\u001b[0m\n\u001b[1;32m    370\u001b[0m \u001b[38;5;250m\u001b[39m\u001b[38;5;124;03m\"\"\"Performs pose landmarks detection on the provided video frame.\u001b[39;00m\n\u001b[1;32m    371\u001b[0m \n\u001b[1;32m    372\u001b[0m \u001b[38;5;124;03mOnly use this method when the PoseLandmarker is created with the video\u001b[39;00m\n\u001b[0;32m   (...)\u001b[0m\n\u001b[1;32m    390\u001b[0m \u001b[38;5;124;03m  RuntimeError: If pose landmarker detection failed to run.\u001b[39;00m\n\u001b[1;32m    391\u001b[0m \u001b[38;5;124;03m\"\"\"\u001b[39;00m\n\u001b[1;32m    392\u001b[0m normalized_rect \u001b[38;5;241m=\u001b[39m \u001b[38;5;28mself\u001b[39m\u001b[38;5;241m.\u001b[39mconvert_to_normalized_rect(\n\u001b[1;32m    393\u001b[0m     image_processing_options, image, roi_allowed\u001b[38;5;241m=\u001b[39m\u001b[38;5;28;01mFalse\u001b[39;00m\n\u001b[1;32m    394\u001b[0m )\n\u001b[0;32m--> 395\u001b[0m output_packets \u001b[38;5;241m=\u001b[39m \u001b[38;5;28;43mself\u001b[39;49m\u001b[38;5;241;43m.\u001b[39;49m\u001b[43m_process_video_data\u001b[49m\u001b[43m(\u001b[49m\u001b[43m{\u001b[49m\n\u001b[1;32m    396\u001b[0m \u001b[43m    \u001b[49m\u001b[43m_IMAGE_IN_STREAM_NAME\u001b[49m\u001b[43m:\u001b[49m\u001b[43m \u001b[49m\u001b[43mpacket_creator\u001b[49m\u001b[38;5;241;43m.\u001b[39;49m\u001b[43mcreate_image\u001b[49m\u001b[43m(\u001b[49m\u001b[43mimage\u001b[49m\u001b[43m)\u001b[49m\u001b[38;5;241;43m.\u001b[39;49m\u001b[43mat\u001b[49m\u001b[43m(\u001b[49m\n\u001b[1;32m    397\u001b[0m \u001b[43m        \u001b[49m\u001b[43mtimestamp_ms\u001b[49m\u001b[43m \u001b[49m\u001b[38;5;241;43m*\u001b[39;49m\u001b[43m \u001b[49m\u001b[43m_MICRO_SECONDS_PER_MILLISECOND\u001b[49m\n\u001b[1;32m    398\u001b[0m \u001b[43m    \u001b[49m\u001b[43m)\u001b[49m\u001b[43m,\u001b[49m\n\u001b[1;32m    399\u001b[0m \u001b[43m    \u001b[49m\u001b[43m_NORM_RECT_STREAM_NAME\u001b[49m\u001b[43m:\u001b[49m\u001b[43m \u001b[49m\u001b[43mpacket_creator\u001b[49m\u001b[38;5;241;43m.\u001b[39;49m\u001b[43mcreate_proto\u001b[49m\u001b[43m(\u001b[49m\n\u001b[1;32m    400\u001b[0m \u001b[43m        \u001b[49m\u001b[43mnormalized_rect\u001b[49m\u001b[38;5;241;43m.\u001b[39;49m\u001b[43mto_pb2\u001b[49m\u001b[43m(\u001b[49m\u001b[43m)\u001b[49m\n\u001b[1;32m    401\u001b[0m \u001b[43m    \u001b[49m\u001b[43m)\u001b[49m\u001b[38;5;241;43m.\u001b[39;49m\u001b[43mat\u001b[49m\u001b[43m(\u001b[49m\u001b[43mtimestamp_ms\u001b[49m\u001b[43m \u001b[49m\u001b[38;5;241;43m*\u001b[39;49m\u001b[43m \u001b[49m\u001b[43m_MICRO_SECONDS_PER_MILLISECOND\u001b[49m\u001b[43m)\u001b[49m\u001b[43m,\u001b[49m\n\u001b[1;32m    402\u001b[0m \u001b[43m\u001b[49m\u001b[43m}\u001b[49m\u001b[43m)\u001b[49m\n\u001b[1;32m    404\u001b[0m \u001b[38;5;28;01mif\u001b[39;00m output_packets[_NORM_LANDMARKS_STREAM_NAME]\u001b[38;5;241m.\u001b[39mis_empty():\n\u001b[1;32m    405\u001b[0m   \u001b[38;5;28;01mreturn\u001b[39;00m PoseLandmarkerResult([], [])\n",
      "File \u001b[0;32m/Library/Frameworks/Python.framework/Versions/3.11/lib/python3.11/site-packages/mediapipe/tasks/python/vision/core/base_vision_task_api.py:119\u001b[0m, in \u001b[0;36mBaseVisionTaskApi._process_video_data\u001b[0;34m(self, inputs)\u001b[0m\n\u001b[1;32m    114\u001b[0m \u001b[38;5;28;01mif\u001b[39;00m \u001b[38;5;28mself\u001b[39m\u001b[38;5;241m.\u001b[39m_running_mode \u001b[38;5;241m!=\u001b[39m _RunningMode\u001b[38;5;241m.\u001b[39mVIDEO:\n\u001b[1;32m    115\u001b[0m   \u001b[38;5;28;01mraise\u001b[39;00m \u001b[38;5;167;01mValueError\u001b[39;00m(\n\u001b[1;32m    116\u001b[0m       \u001b[38;5;124m'\u001b[39m\u001b[38;5;124mTask is not initialized with the video mode. Current running mode:\u001b[39m\u001b[38;5;124m'\u001b[39m\n\u001b[1;32m    117\u001b[0m       \u001b[38;5;241m+\u001b[39m \u001b[38;5;28mself\u001b[39m\u001b[38;5;241m.\u001b[39m_running_mode\u001b[38;5;241m.\u001b[39mname\n\u001b[1;32m    118\u001b[0m   )\n\u001b[0;32m--> 119\u001b[0m \u001b[38;5;28;01mreturn\u001b[39;00m \u001b[38;5;28;43mself\u001b[39;49m\u001b[38;5;241;43m.\u001b[39;49m\u001b[43m_runner\u001b[49m\u001b[38;5;241;43m.\u001b[39;49m\u001b[43mprocess\u001b[49m\u001b[43m(\u001b[49m\u001b[43minputs\u001b[49m\u001b[43m)\u001b[49m\n",
      "\u001b[0;31mValueError\u001b[0m: Input timestamp must be monotonically increasing."
     ]
    }
   ],
   "source": [
    "def process_video(video_path):\n",
    "    cap = cv2.VideoCapture(video_path)\n",
    "    fps = max(30, cap.get(cv2.CAP_PROP_FPS))\n",
    "              \n",
    "    while True: \n",
    "        ret, frame = cap.read()\n",
    "\n",
    "        if not ret: \n",
    "            break\n",
    "\n",
    "        timestamp_ms = int(cap.get(cv2.CAP_PROP_POS_MSEC))\n",
    "\n",
    "        mp_image = mp.Image(image_format=mp.ImageFormat.SRGB, data=frame)        \n",
    "        pose_landmarker_result = landmarker.detect_for_video(mp_image, timestamp_ms)\n",
    "\n",
    "        if pose_landmarker_result.pose_landmarks is None or len(pose_landmarker_result.pose_landmarks) < 1:\n",
    "            continue  # skip this frame\n",
    "\n",
    "        point_A = pose_landmarker_result.pose_landmarks[0][15]\n",
    "        point_B = pose_landmarker_result.pose_landmarks[0][13]\n",
    "        point_C = pose_landmarker_result.pose_landmarks[0][11]\n",
    "\n",
    "        angle = compute_angle(point_A, point_B, point_C)\n",
    "\n",
    "        # Add the angles and timestamps for matplotlib\n",
    "        angles.append(angle)\n",
    "        timestamps.append(timestamp_ms)\n",
    "\n",
    "        update_plot()\n",
    "\n",
    "        cv2.imshow('Video', frame)\n",
    "        if cv2.waitKey(1) & 0xFF == ord('q'):\n",
    "            break\n",
    "\n",
    "    cap.release()\n",
    "    cv2.destroyAllWindows()\n",
    "\n",
    "process_video('./data/SideViewGood.MOV')\n",
    "print(timestamps)\n",
    "print(angles)\n"
   ]
  },
  {
   "cell_type": "code",
   "execution_count": null,
   "id": "b36a04da-f39a-42e7-b171-1d44900bfc95",
   "metadata": {},
   "outputs": [],
   "source": []
  }
 ],
 "metadata": {
  "kernelspec": {
   "display_name": "Python 3 (ipykernel)",
   "language": "python",
   "name": "python3"
  },
  "language_info": {
   "codemirror_mode": {
    "name": "ipython",
    "version": 3
   },
   "file_extension": ".py",
   "mimetype": "text/x-python",
   "name": "python",
   "nbconvert_exporter": "python",
   "pygments_lexer": "ipython3",
   "version": "3.11.3"
  }
 },
 "nbformat": 4,
 "nbformat_minor": 5
}
